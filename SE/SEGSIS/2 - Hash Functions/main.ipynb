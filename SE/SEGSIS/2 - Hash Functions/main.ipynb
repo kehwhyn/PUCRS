{
 "cells": [
  {
   "attachments": {},
   "cell_type": "markdown",
   "metadata": {},
   "source": [
    "[Link](https://youtu.be/Nhg1XKHWLkc) vídeo explicando no youtube"
   ]
  },
  {
   "cell_type": "code",
   "execution_count": 10,
   "metadata": {},
   "outputs": [],
   "source": [
    "import hashlib"
   ]
  },
  {
   "cell_type": "code",
   "execution_count": 11,
   "metadata": {},
   "outputs": [],
   "source": [
    "blocks = []\n",
    "with open(\"FuncoesResumo-SHA1.mp4\", \"rb\") as file:\n",
    "    while True:\n",
    "        data = file.read(1024)\n",
    "        \n",
    "        if not data:\n",
    "            break\n",
    "        \n",
    "        blocks.append(data)"
   ]
  },
  {
   "cell_type": "code",
   "execution_count": 12,
   "metadata": {},
   "outputs": [],
   "source": [
    "hex_hashes = []\n",
    "\n",
    "reversed_blocks = blocks[::-1]\n",
    "for index in range(len(reversed_blocks)):\n",
    "    m = hashlib.sha256()\n",
    "    m.update(reversed_blocks[index])\n",
    "    byte_hash = m.digest()\n",
    "\n",
    "    if index < len(reversed_blocks) - 1:\n",
    "        reversed_blocks[index + 1] += byte_hash\n",
    "    \n",
    "    hex_hashes.append(m.hexdigest())"
   ]
  },
  {
   "cell_type": "code",
   "execution_count": 13,
   "metadata": {},
   "outputs": [
    {
     "name": "stdout",
     "output_type": "stream",
     "text": [
      "| size | hex hash\n",
      "|  64  | 37d88ff100aaf4c63bb828ff1a89f99af2123e143bd758d0eb1573a044e74c84\n",
      "|  64  | 302256b74111bcba1c04282a1e31da7e547d4a7098cdaec8330d48bd87569516\n"
     ]
    }
   ],
   "source": [
    "print(\"| size | hex hash\")\n",
    "\n",
    "last_block = hex_hashes[0]\n",
    "print(\"| \", len(last_block), \" |\", last_block)\n",
    "\n",
    "h0 = hex_hashes[-1]\n",
    "print(\"| \", len(h0), \" |\", h0)"
   ]
  }
 ],
 "metadata": {
  "kernelspec": {
   "display_name": "env-win",
   "language": "python",
   "name": "python3"
  },
  "language_info": {
   "codemirror_mode": {
    "name": "ipython",
    "version": 3
   },
   "file_extension": ".py",
   "mimetype": "text/x-python",
   "name": "python",
   "nbconvert_exporter": "python",
   "pygments_lexer": "ipython3",
   "version": "3.11.3"
  },
  "orig_nbformat": 4
 },
 "nbformat": 4,
 "nbformat_minor": 2
}
